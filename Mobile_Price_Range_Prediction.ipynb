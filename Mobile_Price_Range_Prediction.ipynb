{
  "nbformat": 4,
  "nbformat_minor": 0,
  "metadata": {
    "colab": {
      "provenance": [],
      "authorship_tag": "ABX9TyP6nIbE8a9CMk3nXnN0OPZZ",
      "include_colab_link": true
    },
    "kernelspec": {
      "name": "python3",
      "display_name": "Python 3"
    },
    "language_info": {
      "name": "python"
    }
  },
  "cells": [
    {
      "cell_type": "markdown",
      "metadata": {
        "id": "view-in-github",
        "colab_type": "text"
      },
      "source": [
        "<a href=\"https://colab.research.google.com/github/atulchune/Mobile-price-range-Prediction/blob/main/Mobile_Price_Range_Prediction.ipynb\" target=\"_parent\"><img src=\"https://colab.research.google.com/assets/colab-badge.svg\" alt=\"Open In Colab\"/></a>"
      ]
    },
    {
      "cell_type": "markdown",
      "source": [
        "# **Project Name -Mobile Price Range Prediction**\n",
        "**Project Type - Classification**\n",
        "\n",
        "**Contribution - Individual**"
      ],
      "metadata": {
        "id": "XUpP3KSdJc91"
      }
    },
    {
      "cell_type": "markdown",
      "source": [
        "# **Project Summary -**"
      ],
      "metadata": {
        "id": "Ueuk2NuQKfxX"
      }
    },
    {
      "cell_type": "markdown",
      "source": [
        "* Developed a machine learning model to predict the price range of mobile\n",
        "phones.\n",
        "* Collected and preprocessed extensive data on mobile phone specifications, features, and pricing.\n",
        "* Utilized Python and popular data analysis libraries like Pandas and Scikit-Learn for data manipulation and modeling.\n",
        "* Employed a variety of machine learning algorithms, including decision trees, random forests, and gradient boosting, to build predictive models.\n",
        "* Conducted thorough model evaluation using metrics such as accuracy, precision, recall, and F1-score.\n",
        "* Optimized model performance through techniques like cross-validation and hyperparameter tuning.\n",
        "* Collaborated with industry experts to incorporate domain-specific knowledge and enhance model interpretability.\n",
        "* Delivered a reliable mobile price range prediction system, empowering stakeholders in the mobile industry to make informed decisions regarding product pricing and marketing strategies.\""
      ],
      "metadata": {
        "id": "yTxFUA9gKpa2"
      }
    },
    {
      "cell_type": "markdown",
      "source": [
        "# **Project Objective**"
      ],
      "metadata": {
        "id": "AVruiKhCNg3D"
      }
    },
    {
      "cell_type": "markdown",
      "source": [
        "\n",
        "The objective of this project is to develop a robust machine learning model that accurately predicts the price range of mobile phones based on various features and specifications. The problem statement can be defined as follows:\n",
        "\n"
      ],
      "metadata": {
        "id": "1CY_4EDgM7rC"
      }
    },
    {
      "cell_type": "markdown",
      "source": [
        "# **Problem Statement**"
      ],
      "metadata": {
        "id": "qql5aXkjNWW-"
      }
    },
    {
      "cell_type": "markdown",
      "source": [
        "\n",
        "In the highly competitive mobile phone market, manufacturers and retailers need an efficient way to determine the appropriate price range for their products to maximize sales and profitability. Pricing a mobile phone too high can lead to reduced demand, while pricing it too low can result in lost revenue. Therefore, there is a critical need for a predictive model that can help businesses estimate the optimal price range for a mobile phone based on its characteristics."
      ],
      "metadata": {
        "id": "o-HAmfTKNQds"
      }
    },
    {
      "cell_type": "markdown",
      "source": [
        "# **GitHub Link -**"
      ],
      "metadata": {
        "id": "adR5OWHiNsPF"
      }
    },
    {
      "cell_type": "markdown",
      "source": [],
      "metadata": {
        "id": "LikF4ovGNyDc"
      }
    },
    {
      "cell_type": "markdown",
      "source": [
        "**Data Description -**"
      ],
      "metadata": {
        "id": "B_UnH9T1N2qp"
      }
    },
    {
      "cell_type": "markdown",
      "source": [
        "*  **Battery_power** - Total energy a battery can store in one time measured in mAh\n",
        "*   **Blue** - Has bluetooth or not\n",
        "*   **Clock_speed** - speed at which microprocessor executes instructions\n",
        "*   **Dual_sim** - Has dual sim support or not\n",
        "*   **Fc** - Front Camera mega pixels\n",
        "*  **Four_g** - Has 4G or not\n",
        "*  **Int_memory** - Internal Memory in Gigabytes\n",
        "*   **M_dep** - Mobile Depth in cm\n",
        "*   **Mobile_wt** - Weight of mobile phone\n",
        "*   **N_cores** - Number of cores of processor\n",
        "*   **Pc** - Primary Camera mega pixels\n",
        "*   **Px_height** - Pixel Resolution Height\n",
        "*   **Px_width** - Pixel Resolution Width\n",
        "*   **Ram** - Random Access Memory in Mega\n",
        "*   **Touch_screen** - Has touch screen or not\n",
        "*   **Wifi** - Has wifi or not\n",
        "*  **Sc_h** - Screen Height of mobile in cm\n",
        "*   **Sc_w** - Screen Width of mobile in cm\n",
        "*   **Talk_time** - longest time that a single battery charge will last when you are\n",
        "*   **Three_g** - Has 3G or not\n",
        "*   **Wifi** - Has wifi or not\n",
        "*  **Price_range** - This is the target variable with value of 0(low cost), 1(medium cost),\n",
        "2(high cost) and 3(very high cost)."
      ],
      "metadata": {
        "id": "Ta8CRoElOA0O"
      }
    },
    {
      "cell_type": "code",
      "source": [
        "# importing  all necessary libraries\n",
        "\n",
        "import numpy as np\n",
        "import pandas as pd\n",
        "import matplotlib.pyplot as plt\n",
        "import seaborn as sns\n",
        "from sklearn.ensemble import RandomForestClassifier\n",
        "from sklearn.neighbors import KNeighborsClassifier\n",
        "from sklearn.tree import DecisionTreeClassifier\n",
        "from sklearn.pipeline import make_pipeline\n",
        "from sklearn.preprocessing import StandardScaler\n",
        "from sklearn.ensemble import StackingClassifier\n",
        "from sklearn.impute import SimpleImputer\n",
        "from sklearn.model_selection import cross_val_score\n",
        "from sklearn.model_selection import RepeatedStratifiedKFold\n",
        "from sklearn.model_selection import GridSearchCV\n",
        "\n",
        "import warnings\n",
        "warnings.filterwarnings(\"ignore\")"
      ],
      "metadata": {
        "id": "sPsC1NNQOL3v"
      },
      "execution_count": null,
      "outputs": []
    }
  ]
}